{
 "cells": [
  {
   "cell_type": "markdown",
   "metadata": {},
   "source": [
    "## Dependencies:"
   ]
  },
  {
   "cell_type": "code",
   "execution_count": 1,
   "metadata": {},
   "outputs": [
    {
     "name": "stdout",
     "output_type": "stream",
     "text": [
      "Requirement already satisfied: pandasql in /Users/ulises.sotomayor/opt/anaconda3/lib/python3.7/site-packages (0.7.3)\r\n",
      "Requirement already satisfied: pandas in /Users/ulises.sotomayor/opt/anaconda3/lib/python3.7/site-packages (from pandasql) (1.0.1)\r\n",
      "Requirement already satisfied: sqlalchemy in /Users/ulises.sotomayor/opt/anaconda3/lib/python3.7/site-packages (from pandasql) (1.3.13)\r\n",
      "Requirement already satisfied: numpy in /Users/ulises.sotomayor/opt/anaconda3/lib/python3.7/site-packages (from pandasql) (1.18.1)\r\n",
      "Requirement already satisfied: pytz>=2017.2 in /Users/ulises.sotomayor/opt/anaconda3/lib/python3.7/site-packages (from pandas->pandasql) (2019.3)\r\n",
      "Requirement already satisfied: python-dateutil>=2.6.1 in /Users/ulises.sotomayor/opt/anaconda3/lib/python3.7/site-packages (from pandas->pandasql) (2.8.1)\r\n",
      "Requirement already satisfied: six>=1.5 in /Users/ulises.sotomayor/opt/anaconda3/lib/python3.7/site-packages (from python-dateutil>=2.6.1->pandas->pandasql) (1.14.0)\r\n"
     ]
    }
   ],
   "source": [
    "import sys\n",
    "!{sys.executable} -m pip install pandasql\n",
    "import pandasql\n",
    "import pandas as pd\n",
    "%matplotlib inline\n",
    "import matplotlib.pyplot as plt\n",
    "import seaborn as sns"
   ]
  },
  {
   "cell_type": "markdown",
   "metadata": {},
   "source": [
    "## Part 1 (SQL):"
   ]
  },
  {
   "cell_type": "code",
   "execution_count": 2,
   "metadata": {},
   "outputs": [],
   "source": [
    "data = pd.read_csv('Q1_Data.csv')"
   ]
  },
  {
   "cell_type": "code",
   "execution_count": 3,
   "metadata": {},
   "outputs": [
    {
     "name": "stdout",
     "output_type": "stream",
     "text": [
      "(3553, 4)\n",
      "            ts user_id country_id site_id\n",
      "0  2/1/19 0:01  LC36FC        TL6   N0OTG\n",
      "1  2/1/19 0:10  LC39B6        TL6   N0OTG\n",
      "2  2/1/19 0:21  LC3500        TL6   N0OTG\n",
      "3  2/1/19 0:22  LC374F        TL6   N0OTG\n",
      "4  2/1/19 0:23  LCC1C3        TL6   QGO3G\n"
     ]
    }
   ],
   "source": [
    "print(data.shape)\n",
    "\n",
    "print (data.head())\n",
    "data['ts'] = data['ts'].astype('datetime64[s]') "
   ]
  },
  {
   "cell_type": "code",
   "execution_count": 4,
   "metadata": {
    "scrolled": true
   },
   "outputs": [
    {
     "data": {
      "text/html": [
       "<div>\n",
       "<style scoped>\n",
       "    .dataframe tbody tr th:only-of-type {\n",
       "        vertical-align: middle;\n",
       "    }\n",
       "\n",
       "    .dataframe tbody tr th {\n",
       "        vertical-align: top;\n",
       "    }\n",
       "\n",
       "    .dataframe thead th {\n",
       "        text-align: right;\n",
       "    }\n",
       "</style>\n",
       "<table border=\"1\" class=\"dataframe\">\n",
       "  <thead>\n",
       "    <tr style=\"text-align: right;\">\n",
       "      <th></th>\n",
       "      <th>ts</th>\n",
       "      <th>user_id</th>\n",
       "      <th>country_id</th>\n",
       "      <th>site_id</th>\n",
       "    </tr>\n",
       "  </thead>\n",
       "  <tbody>\n",
       "    <tr>\n",
       "      <th>0</th>\n",
       "      <td>2019-02-01 00:01:00.000000</td>\n",
       "      <td>LC36FC</td>\n",
       "      <td>TL6</td>\n",
       "      <td>N0OTG</td>\n",
       "    </tr>\n",
       "    <tr>\n",
       "      <th>1</th>\n",
       "      <td>2019-02-01 00:10:00.000000</td>\n",
       "      <td>LC39B6</td>\n",
       "      <td>TL6</td>\n",
       "      <td>N0OTG</td>\n",
       "    </tr>\n",
       "    <tr>\n",
       "      <th>2</th>\n",
       "      <td>2019-02-01 00:21:00.000000</td>\n",
       "      <td>LC3500</td>\n",
       "      <td>TL6</td>\n",
       "      <td>N0OTG</td>\n",
       "    </tr>\n",
       "    <tr>\n",
       "      <th>3</th>\n",
       "      <td>2019-02-01 00:22:00.000000</td>\n",
       "      <td>LC374F</td>\n",
       "      <td>TL6</td>\n",
       "      <td>N0OTG</td>\n",
       "    </tr>\n",
       "    <tr>\n",
       "      <th>4</th>\n",
       "      <td>2019-02-01 00:23:00.000000</td>\n",
       "      <td>LCC1C3</td>\n",
       "      <td>TL6</td>\n",
       "      <td>QGO3G</td>\n",
       "    </tr>\n",
       "    <tr>\n",
       "      <th>5</th>\n",
       "      <td>2019-02-01 00:24:00.000000</td>\n",
       "      <td>LC3E1D</td>\n",
       "      <td>HVQ</td>\n",
       "      <td>GVOFK</td>\n",
       "    </tr>\n",
       "    <tr>\n",
       "      <th>6</th>\n",
       "      <td>2019-02-01 00:25:00.000000</td>\n",
       "      <td>LC3561</td>\n",
       "      <td>TL6</td>\n",
       "      <td>3POLC</td>\n",
       "    </tr>\n",
       "    <tr>\n",
       "      <th>7</th>\n",
       "      <td>2019-02-01 00:29:00.000000</td>\n",
       "      <td>LC3A01</td>\n",
       "      <td>TL6</td>\n",
       "      <td>N0OTG</td>\n",
       "    </tr>\n",
       "    <tr>\n",
       "      <th>8</th>\n",
       "      <td>2019-02-01 00:32:00.000000</td>\n",
       "      <td>LC36FC</td>\n",
       "      <td>TL6</td>\n",
       "      <td>N0OTG</td>\n",
       "    </tr>\n",
       "    <tr>\n",
       "      <th>9</th>\n",
       "      <td>2019-02-01 00:35:00.000000</td>\n",
       "      <td>LC3D80</td>\n",
       "      <td>TL6</td>\n",
       "      <td>N0OTG</td>\n",
       "    </tr>\n",
       "  </tbody>\n",
       "</table>\n",
       "</div>"
      ],
      "text/plain": [
       "                           ts user_id country_id site_id\n",
       "0  2019-02-01 00:01:00.000000  LC36FC        TL6   N0OTG\n",
       "1  2019-02-01 00:10:00.000000  LC39B6        TL6   N0OTG\n",
       "2  2019-02-01 00:21:00.000000  LC3500        TL6   N0OTG\n",
       "3  2019-02-01 00:22:00.000000  LC374F        TL6   N0OTG\n",
       "4  2019-02-01 00:23:00.000000  LCC1C3        TL6   QGO3G\n",
       "5  2019-02-01 00:24:00.000000  LC3E1D        HVQ   GVOFK\n",
       "6  2019-02-01 00:25:00.000000  LC3561        TL6   3POLC\n",
       "7  2019-02-01 00:29:00.000000  LC3A01        TL6   N0OTG\n",
       "8  2019-02-01 00:32:00.000000  LC36FC        TL6   N0OTG\n",
       "9  2019-02-01 00:35:00.000000  LC3D80        TL6   N0OTG"
      ]
     },
     "execution_count": 4,
     "metadata": {},
     "output_type": "execute_result"
    }
   ],
   "source": [
    "pandasql.sqldf(\"SELECT * FROM data LIMIT 10;\", globals())"
   ]
  },
  {
   "cell_type": "markdown",
   "metadata": {},
   "source": [
    "###### Question 1:\n",
    "Consider only the rows with country_id = \"BDV\" (there are 844 such rows). For each site_id, we can compute the number of unique user_id's found in these 844 rows. Which site_id has the largest number of unique users? And what's the number?\n",
    "\n",
    "###### Answer: "
   ]
  },
  {
   "cell_type": "code",
   "execution_count": 5,
   "metadata": {},
   "outputs": [
    {
     "data": {
      "text/html": [
       "<div>\n",
       "<style scoped>\n",
       "    .dataframe tbody tr th:only-of-type {\n",
       "        vertical-align: middle;\n",
       "    }\n",
       "\n",
       "    .dataframe tbody tr th {\n",
       "        vertical-align: top;\n",
       "    }\n",
       "\n",
       "    .dataframe thead th {\n",
       "        text-align: right;\n",
       "    }\n",
       "</style>\n",
       "<table border=\"1\" class=\"dataframe\">\n",
       "  <thead>\n",
       "    <tr style=\"text-align: right;\">\n",
       "      <th></th>\n",
       "      <th>site_id</th>\n",
       "      <th>unique_count</th>\n",
       "    </tr>\n",
       "  </thead>\n",
       "  <tbody>\n",
       "    <tr>\n",
       "      <th>0</th>\n",
       "      <td>5NPAU</td>\n",
       "      <td>544</td>\n",
       "    </tr>\n",
       "    <tr>\n",
       "      <th>1</th>\n",
       "      <td>N0OTG</td>\n",
       "      <td>90</td>\n",
       "    </tr>\n",
       "    <tr>\n",
       "      <th>2</th>\n",
       "      <td>3POLC</td>\n",
       "      <td>2</td>\n",
       "    </tr>\n",
       "  </tbody>\n",
       "</table>\n",
       "</div>"
      ],
      "text/plain": [
       "  site_id  unique_count\n",
       "0   5NPAU           544\n",
       "1   N0OTG            90\n",
       "2   3POLC             2"
      ]
     },
     "execution_count": 5,
     "metadata": {},
     "output_type": "execute_result"
    }
   ],
   "source": [
    "pandasql.sqldf(\"\\\n",
    "SELECT site_id, COUNT(DISTINCT(user_id)) AS unique_count \\\n",
    "FROM data WHERE country_id = 'BDV' \\\n",
    "GROUP BY 1 ORDER BY unique_count DESC;\", globals())\n",
    "\n",
    "\n",
    "\n"
   ]
  },
  {
   "cell_type": "code",
   "execution_count": null,
   "metadata": {},
   "outputs": [],
   "source": [
    "SELECT \n",
    "    site_id, \n",
    "    COUNT(DISTINCT(user_id)) AS unique_count \n",
    "FROM data WHERE country_id = 'BDV' \n",
    "GROUP BY 1;\n",
    "\n",
    "\n"
   ]
  },
  {
   "cell_type": "markdown",
   "metadata": {},
   "source": [
    "###### Question 2:\n",
    "Between 2019-02-03 00:00:00 and 2019-02-04 23:59:59, there are four users who visited a certain site more than 10 times. Find these four users & which sites they (each) visited more than 10 times. (Simply provides four triples in the form (user_id, site_id, number of visits) in the box below.)\n",
    "\n",
    "###### Answer:"
   ]
  },
  {
   "cell_type": "code",
   "execution_count": 6,
   "metadata": {},
   "outputs": [
    {
     "data": {
      "text/html": [
       "<div>\n",
       "<style scoped>\n",
       "    .dataframe tbody tr th:only-of-type {\n",
       "        vertical-align: middle;\n",
       "    }\n",
       "\n",
       "    .dataframe tbody tr th {\n",
       "        vertical-align: top;\n",
       "    }\n",
       "\n",
       "    .dataframe thead th {\n",
       "        text-align: right;\n",
       "    }\n",
       "</style>\n",
       "<table border=\"1\" class=\"dataframe\">\n",
       "  <thead>\n",
       "    <tr style=\"text-align: right;\">\n",
       "      <th></th>\n",
       "      <th>user_id</th>\n",
       "      <th>site_id</th>\n",
       "      <th>visits</th>\n",
       "    </tr>\n",
       "  </thead>\n",
       "  <tbody>\n",
       "    <tr>\n",
       "      <th>0</th>\n",
       "      <td>LC06C3</td>\n",
       "      <td>N0OTG</td>\n",
       "      <td>25</td>\n",
       "    </tr>\n",
       "    <tr>\n",
       "      <th>1</th>\n",
       "      <td>LC3A59</td>\n",
       "      <td>N0OTG</td>\n",
       "      <td>26</td>\n",
       "    </tr>\n",
       "    <tr>\n",
       "      <th>2</th>\n",
       "      <td>LC3C7E</td>\n",
       "      <td>3POLC</td>\n",
       "      <td>15</td>\n",
       "    </tr>\n",
       "    <tr>\n",
       "      <th>3</th>\n",
       "      <td>LC3C9D</td>\n",
       "      <td>N0OTG</td>\n",
       "      <td>17</td>\n",
       "    </tr>\n",
       "  </tbody>\n",
       "</table>\n",
       "</div>"
      ],
      "text/plain": [
       "  user_id site_id  visits\n",
       "0  LC06C3   N0OTG      25\n",
       "1  LC3A59   N0OTG      26\n",
       "2  LC3C7E   3POLC      15\n",
       "3  LC3C9D   N0OTG      17"
      ]
     },
     "execution_count": 6,
     "metadata": {},
     "output_type": "execute_result"
    }
   ],
   "source": [
    "pandasql.sqldf(\"SELECT user_id, site_id, visits FROM (SELECT site_id, user_id, COUNT(*) AS visits FROM data WHERE ts BETWEEN '2019-02-03 00:00:00' and '2019-02-04 23:59:59' GROUP BY 1,2) WHERE visits > 10 GROUP BY 1,2,3 ;\", globals())\n",
    "\n",
    "\n",
    "\n"
   ]
  },
  {
   "cell_type": "code",
   "execution_count": null,
   "metadata": {},
   "outputs": [],
   "source": [
    "SELECT \n",
    "    user_id, \n",
    "    site_id, \n",
    "    visits \n",
    "FROM \n",
    "    (SELECT \n",
    "         site_id, \n",
    "         user_id, \n",
    "         COUNT(*) AS visits \n",
    "     FROM data \n",
    "     WHERE ts BETWEEN '2019-02-03 00:00:00' and '2019-02-04 23:59:59' \n",
    "     GROUP BY 1,2) \n",
    "WHERE visits > 10 \n",
    "GROUP BY 1,2,3 ;\n",
    "\n",
    "\n",
    "\n"
   ]
  },
  {
   "cell_type": "markdown",
   "metadata": {},
   "source": [
    "###### Question 3:\n",
    "For each site, compute the unique number of users whose last visit (found in the original data set) was to that site. For instance, user \"LC3561\"'s last visit is to \"N0OTG\" based on timestamp data. Based on this measure, what are top three sites? (hint: site \"3POLC\" is ranked at 5th with 28 users whose last visit in the data set was to 3POLC; simply provide three pairs in the form (site_id, number of users).)\n",
    "\n",
    "###### Answer:"
   ]
  },
  {
   "cell_type": "code",
   "execution_count": 7,
   "metadata": {},
   "outputs": [
    {
     "data": {
      "text/html": [
       "<div>\n",
       "<style scoped>\n",
       "    .dataframe tbody tr th:only-of-type {\n",
       "        vertical-align: middle;\n",
       "    }\n",
       "\n",
       "    .dataframe tbody tr th {\n",
       "        vertical-align: top;\n",
       "    }\n",
       "\n",
       "    .dataframe thead th {\n",
       "        text-align: right;\n",
       "    }\n",
       "</style>\n",
       "<table border=\"1\" class=\"dataframe\">\n",
       "  <thead>\n",
       "    <tr style=\"text-align: right;\">\n",
       "      <th></th>\n",
       "      <th>site_id</th>\n",
       "      <th>site_count</th>\n",
       "    </tr>\n",
       "  </thead>\n",
       "  <tbody>\n",
       "    <tr>\n",
       "      <th>0</th>\n",
       "      <td>5NPAU</td>\n",
       "      <td>992</td>\n",
       "    </tr>\n",
       "    <tr>\n",
       "      <th>1</th>\n",
       "      <td>N0OTG</td>\n",
       "      <td>561</td>\n",
       "    </tr>\n",
       "    <tr>\n",
       "      <th>2</th>\n",
       "      <td>QGO3G</td>\n",
       "      <td>289</td>\n",
       "    </tr>\n",
       "  </tbody>\n",
       "</table>\n",
       "</div>"
      ],
      "text/plain": [
       "  site_id  site_count\n",
       "0   5NPAU         992\n",
       "1   N0OTG         561\n",
       "2   QGO3G         289"
      ]
     },
     "execution_count": 7,
     "metadata": {},
     "output_type": "execute_result"
    }
   ],
   "source": [
    "pandasql.sqldf(\"SELECT d.site_id, count(DISTINCT(d.user_id)) as site_count \\\n",
    "FROM data as d \\\n",
    "INNER JOIN \\\n",
    "(SELECT MAX(ts) as recent, user_id \\\n",
    "FROM data GROUP BY 2 ORDER BY 1 ASC) as e \\\n",
    "ON d.user_id = e.user_id AND d.ts = e.recent GROUP BY 1 \\\n",
    "ORDER BY site_count DESC LIMIT 3;\", globals())\n",
    "\n",
    "\n",
    "\n"
   ]
  },
  {
   "cell_type": "code",
   "execution_count": null,
   "metadata": {},
   "outputs": [],
   "source": [
    "SELECT \n",
    "    d.site_id, \n",
    "    count(DISTINCT(d.user_id)) as site_count\n",
    "FROM data as d \n",
    "INNER JOIN \n",
    "(\n",
    "    SELECT \n",
    "        MAX(ts) as recent, \n",
    "        user_id\n",
    "    FROM data \n",
    "    GROUP BY 2 \n",
    "    ORDER BY 1 ASC) as e\n",
    "ON d.user_id = e.user_id AND d.ts = e.recent \n",
    "GROUP BY 1\n",
    "ORDER BY site_count DESC\n",
    "LIMIT 3;\n",
    "\n",
    "\n",
    "\n"
   ]
  },
  {
   "cell_type": "markdown",
   "metadata": {},
   "source": [
    "###### Question 3:\n",
    "\n",
    "For each user, determine the first site he/she visited and the last site he/she visited based on the timestamp data. Compute the number of users whose first/last visits are to the same website. What is the number?\n",
    "\n",
    "###### Answer:"
   ]
  },
  {
   "cell_type": "code",
   "execution_count": 8,
   "metadata": {},
   "outputs": [
    {
     "data": {
      "text/html": [
       "<div>\n",
       "<style scoped>\n",
       "    .dataframe tbody tr th:only-of-type {\n",
       "        vertical-align: middle;\n",
       "    }\n",
       "\n",
       "    .dataframe tbody tr th {\n",
       "        vertical-align: top;\n",
       "    }\n",
       "\n",
       "    .dataframe thead th {\n",
       "        text-align: right;\n",
       "    }\n",
       "</style>\n",
       "<table border=\"1\" class=\"dataframe\">\n",
       "  <thead>\n",
       "    <tr style=\"text-align: right;\">\n",
       "      <th></th>\n",
       "      <th>COUNT(DISTINCT(f2.user_id))</th>\n",
       "    </tr>\n",
       "  </thead>\n",
       "  <tbody>\n",
       "    <tr>\n",
       "      <th>0</th>\n",
       "      <td>396</td>\n",
       "    </tr>\n",
       "  </tbody>\n",
       "</table>\n",
       "</div>"
      ],
      "text/plain": [
       "   COUNT(DISTINCT(f2.user_id))\n",
       "0                          396"
      ]
     },
     "execution_count": 8,
     "metadata": {},
     "output_type": "execute_result"
    }
   ],
   "source": [
    "pandasql.sqldf(\"\\\n",
    "WITH \\\n",
    "f as (SELECT MAX(ts) as ts, user_id FROM data GROUP BY 2), \\\n",
    "f2 as (SELECT f2.user_id, f2.site_id, f2.ts FROM data f2 INNER JOIN f ON f.ts = f2.ts and f.user_id = f2.user_id), \\\n",
    "l as (SELECT MIN(ts) as ts, user_id FROM data GROUP BY 2), \\\n",
    "l2 as (SELECT l2.user_id, l2.site_id, l2.ts FROM data l2 INNER JOIN l ON l.ts = l2.ts and l.user_id = l2.user_id) \\\n",
    "SELECT COUNT(DISTINCT(f2.user_id)) FROM f2 \\\n",
    "INNER JOIN l2 ON f2.user_id = l2.user_id and f2.site_id = l2.site_id and f2.ts != l2.ts ;\", globals())\n",
    "\n",
    "\n",
    "\n"
   ]
  },
  {
   "cell_type": "code",
   "execution_count": null,
   "metadata": {},
   "outputs": [],
   "source": [
    "\n",
    "WITH \n",
    "\n",
    "f as (\n",
    "    SELECT MAX(ts) as ts, \n",
    "        user_id FROM data \n",
    "    GROUP BY 2\n",
    "    ),\n",
    "f2 as (\n",
    "    SELECT f2.user_id, \n",
    "        f2.site_id, \n",
    "        f2.ts FROM data f2 \n",
    "    INNER JOIN f ON f.ts = f2.ts \n",
    "    and f.user_id = f2.user_id\n",
    "    ),\n",
    "l as (\n",
    "    SELECT MIN(ts) as ts, \n",
    "        user_id \n",
    "    FROM data \n",
    "    GROUP BY 2),\n",
    "l2 as (\n",
    "    SELECT l2.user_id, \n",
    "        l2.site_id, \n",
    "        l2.ts \n",
    "        FROM data l2 \n",
    "    INNER JOIN l ON l.ts = l2.ts \n",
    "    and l.user_id = l2.user_id\n",
    "    )\n",
    "\n",
    "SELECT \n",
    "    COUNT(DISTINCT(f2.user_id)) \n",
    "FROM f2 \n",
    "INNER JOIN l2 ON f2.user_id = l2.user_id \n",
    "and f2.site_id = l2.site_id \n",
    "and f2.ts != l2.ts ;\n",
    "\n",
    "\n",
    "\n"
   ]
  },
  {
   "cell_type": "markdown",
   "metadata": {},
   "source": [
    "## Part 2 (Regression):"
   ]
  },
  {
   "cell_type": "markdown",
   "metadata": {},
   "source": [
    "###### Question 3:\n",
    "The data contains 300 rows and 3 columns (from the left, A, B, and C). Please build a good regression model which explains column C by a function of  A and B. \n",
    "\n",
    "Note: Please do not use any ML libraries or packages. You can simply attach plot of data points and your regression model that fits the data points and of course, code point (preferably Github).\n",
    "\n",
    "###### Answer: * I got rid of the negative outlier as it was affecting the scale of the plot*\n"
   ]
  },
  {
   "cell_type": "code",
   "execution_count": 9,
   "metadata": {},
   "outputs": [
    {
     "name": "stdout",
     "output_type": "stream",
     "text": [
      "(299, 3)\n",
      "    A  B    C\n",
      "0  11  6 -315\n",
      "1  11  6 -289\n",
      "2  11  6 -288\n",
      "3  10  7 -286\n",
      "4  12  6 -286\n"
     ]
    }
   ],
   "source": [
    "df = pd.read_csv('Q2_Data.csv')\n",
    "\n",
    "print(df.shape)\n",
    "\n",
    "print(df.head())"
   ]
  },
  {
   "cell_type": "code",
   "execution_count": 10,
   "metadata": {},
   "outputs": [
    {
     "data": {
      "text/plain": [
       "Text(0, 0.5, 'Values')"
      ]
     },
     "execution_count": 10,
     "metadata": {},
     "output_type": "execute_result"
    },
    {
     "data": {
      "image/png": "[encoded data removed]",
      "text/plain": [
       "<Figure size 432x288 with 1 Axes>"
      ]
     },
     "metadata": {
      "needs_background": "light"
     },
     "output_type": "display_data"
    }
   ],
   "source": [
    "plt.plot(df.A, 'b-', label='A')\n",
    "plt.plot(df.B, 'g-', label='B')\n",
    "plt.plot(df.C, 'y-', label='C')\n",
    "\n",
    "# Create legend.\n",
    "plt.legend(loc='upper left')\n",
    "plt.xlabel('Index')\n",
    "plt.ylabel('Values')"
   ]
  },
  {
   "cell_type": "code",
   "execution_count": 11,
   "metadata": {},
   "outputs": [
    {
     "name": "stdout",
     "output_type": "stream",
     "text": [
      "<seaborn.axisgrid.FacetGrid object at 0x10f9f81d0>\n",
      "<seaborn.axisgrid.FacetGrid object at 0x1a23793e90>\n",
      "<seaborn.axisgrid.FacetGrid object at 0x1a2386bfd0>\n"
     ]
    },
    {
     "data": {
      "image/png": "[encoded data removed]",
      "text/plain": [
       "<Figure size 360x360 with 1 Axes>"
      ]
     },
     "metadata": {
      "needs_background": "light"
     },
     "output_type": "display_data"
    },
    {
     "data": {
      "image/png": "[encoded data removed]",
      "text/plain": [
       "<Figure size 360x360 with 1 Axes>"
      ]
     },
     "metadata": {
      "needs_background": "light"
     },
     "output_type": "display_data"
    },
    {
     "data": {
      "image/png": "[encoded data removed]",
      "text/plain": [
       "<Figure size 360x360 with 1 Axes>"
      ]
     },
     "metadata": {
      "needs_background": "light"
     },
     "output_type": "display_data"
    }
   ],
   "source": [
    "print(sns.lmplot(x=\"A\", y=\"C\",data=df))\n",
    "\n",
    "print(sns.lmplot(x=\"B\", y=\"C\",data=df))\n",
    "\n",
    "print(sns.lmplot(x=\"A\", y=\"B\",data=df))"
   ]
  },
  {
   "cell_type": "code",
   "execution_count": null,
   "metadata": {},
   "outputs": [],
   "source": []
  }
 ],
 "metadata": {
  "kernelspec": {
   "display_name": "Python 3",
   "language": "python",
   "name": "python3"
  },
  "language_info": {
   "codemirror_mode": {
    "name": "ipython",
    "version": 3
   },
   "file_extension": ".py",
   "mimetype": "text/x-python",
   "name": "python",
   "nbconvert_exporter": "python",
   "pygments_lexer": "ipython3",
   "version": "3.7.6"
  }
 },
 "nbformat": 4,
 "nbformat_minor": 4
}
